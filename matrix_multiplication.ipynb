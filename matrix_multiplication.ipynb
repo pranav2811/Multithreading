{
 "cells": [
  {
   "cell_type": "code",
   "execution_count": 2,
   "metadata": {},
   "outputs": [
    {
     "name": "stdout",
     "output_type": "stream",
     "text": [
      "Os Type:  nt\n"
     ]
    }
   ],
   "source": [
    "import os\n",
    "print(\"OS Type: \",os.name)"
   ]
  },
  {
   "cell_type": "code",
   "execution_count": 3,
   "metadata": {},
   "outputs": [
    {
     "name": "stdout",
     "output_type": "stream",
     "text": [
      "Os Name:  win32\n"
     ]
    }
   ],
   "source": [
    "import sys\n",
    "print(\"OS Name: \",sys.platform)"
   ]
  },
  {
   "cell_type": "code",
   "execution_count": 6,
   "metadata": {},
   "outputs": [
    {
     "name": "stdout",
     "output_type": "stream",
     "text": [
      "OS Platform:  Windows-10-10.0.22621-SP0\n"
     ]
    }
   ],
   "source": [
    "import platform\n",
    "print(\"OS Platform: \",platform.platform())"
   ]
  },
  {
   "cell_type": "code",
   "execution_count": 7,
   "metadata": {},
   "outputs": [
    {
     "name": "stdout",
     "output_type": "stream",
     "text": [
      "Number of cores are :  20\n"
     ]
    }
   ],
   "source": [
    "import multiprocessing\n",
    "\n",
    "numberOfCores = multiprocessing.cpu_count()\n",
    "print(\"Number of cores are : \",numberOfCores)"
   ]
  },
  {
   "cell_type": "code",
   "execution_count": 8,
   "metadata": {},
   "outputs": [
    {
     "name": "stdout",
     "output_type": "stream",
     "text": [
      "Number of active threads are :  9\n"
     ]
    }
   ],
   "source": [
    "import threading\n",
    "activeThread = threading.active_count()\n",
    "print(\"Number of active threads are : \",activeThread)"
   ]
  },
  {
   "cell_type": "code",
   "execution_count": 9,
   "metadata": {},
   "outputs": [],
   "source": [
    "import numpy as np\n",
    "import threading\n",
    "import time"
   ]
  },
  {
   "cell_type": "code",
   "execution_count": 11,
   "metadata": {},
   "outputs": [],
   "source": [
    "def generate_matrices(num,size):\n",
    "    matrices =[]\n",
    "    for _ in range(num):\n",
    "        matrices.append(np.random.rand(size,size))\n",
    "    return matrices"
   ]
  },
  {
   "cell_type": "code",
   "execution_count": 12,
   "metadata": {},
   "outputs": [],
   "source": [
    "def multiply_matrices(constant_matrix, matrices, result, index):\n",
    "    result[index] = np.dot(constant_matrix, matrices[index])"
   ]
  },
  {
   "cell_type": "code",
   "execution_count": 14,
   "metadata": {},
   "outputs": [],
   "source": [
    "num_matrices = 100\n",
    "matrix_size = 1000\n",
    "constant_matrix = np.random.rand(matrix_size, matrix_size)"
   ]
  },
  {
   "cell_type": "code",
   "execution_count": 15,
   "metadata": {},
   "outputs": [
    {
     "data": {
      "text/plain": [
       "array([[0.95122106, 0.8035178 , 0.63619735, ..., 0.63909078, 0.17328659,\n",
       "        0.70121402],\n",
       "       [0.55706655, 0.4108686 , 0.84809875, ..., 0.52334988, 0.3519167 ,\n",
       "        0.15861118],\n",
       "       [0.05540809, 0.44739767, 0.34535828, ..., 0.87246091, 0.62000325,\n",
       "        0.36981484],\n",
       "       ...,\n",
       "       [0.73628988, 0.0934394 , 0.48805061, ..., 0.9549472 , 0.04634823,\n",
       "        0.75967262],\n",
       "       [0.01769132, 0.52420584, 0.95136916, ..., 0.22991538, 0.22087716,\n",
       "        0.22367849],\n",
       "       [0.72236678, 0.19130256, 0.53177924, ..., 0.43345001, 0.7965329 ,\n",
       "        0.27915904]])"
      ]
     },
     "execution_count": 15,
     "metadata": {},
     "output_type": "execute_result"
    }
   ],
   "source": [
    "constant_matrix"
   ]
  },
  {
   "cell_type": "code",
   "execution_count": 18,
   "metadata": {},
   "outputs": [],
   "source": [
    "time_arr=[None]*15"
   ]
  },
  {
   "cell_type": "code",
   "execution_count": 19,
   "metadata": {},
   "outputs": [
    {
     "data": {
      "text/plain": [
       "[None,\n",
       " None,\n",
       " None,\n",
       " None,\n",
       " None,\n",
       " None,\n",
       " None,\n",
       " None,\n",
       " None,\n",
       " None,\n",
       " None,\n",
       " None,\n",
       " None,\n",
       " None,\n",
       " None]"
      ]
     },
     "execution_count": 19,
     "metadata": {},
     "output_type": "execute_result"
    }
   ],
   "source": [
    "time_arr"
   ]
  },
  {
   "cell_type": "code",
   "execution_count": 20,
   "metadata": {},
   "outputs": [
    {
     "name": "stdout",
     "output_type": "stream",
     "text": [
      "Multiplication with 1 threads:\n",
      " All Thread ends\n",
      "Program Finished\n",
      "Total Time 101.482200 sec\n",
      "Multiplication with 2 threads:\n",
      " All Thread ends\n",
      "Program Finished\n",
      "Total Time 50.615800 sec\n",
      "Multiplication with 3 threads:\n"
     ]
    }
   ],
   "source": [
    "matrices = generate_matrices(num_matrices, matrix_size)\n",
    "result = [None] * num_matrices\n",
    "activeThreads=0\n",
    "for num_threads in range(1, 16):\n",
    "    start_time = time.time()\n",
    "    threads = []\n",
    "    activeThreads = threading.activeCount()\n",
    "    print(f\"Multiplication with {num_threads} threads:\")\n",
    "    for i in range(num_matrices):\n",
    "        thread = threading.Thread(target=multiply_matrices, args=(constant_matrix, matrices, result, i))\n",
    "        threads.append(thread)\n",
    "        thread.start()\n",
    "        while True:\n",
    "            if threading.activeCount() - activeThreads + 1 <= num_threads:\n",
    "                break\n",
    "            time.sleep(1)\n",
    "    while True:\n",
    "        if threading.activeCount() == activeThreads:\n",
    "            break\n",
    "        else:\n",
    "            print (\"    Thread still running (left %d)...\"%(threading.activeCount() - activeThreads))\n",
    "            time.sleep(1)\n",
    "\n",
    "    print(\" All Thread ends\")\n",
    "\n",
    "    print(\"Program Finished\")\n",
    "    print(\"Total Time %f sec\" % (round( time.time() - start_time,4)))\n",
    "    time_arr[num_threads-1]=(round( time.time() - start_time,4))"
   ]
  },
  {
   "cell_type": "code",
   "execution_count": null,
   "metadata": {},
   "outputs": [],
   "source": [
    "time_arr"
   ]
  },
  {
   "cell_type": "code",
   "execution_count": null,
   "metadata": {},
   "outputs": [],
   "source": [
    "import matplotlib.pyplot as plt"
   ]
  },
  {
   "cell_type": "code",
   "execution_count": null,
   "metadata": {},
   "outputs": [],
   "source": [
    "num_threads = [1, 2, 3, 4, 5, 6, 7, 8,9,10,11,12,13,14,15]"
   ]
  },
  {
   "cell_type": "code",
   "execution_count": null,
   "metadata": {},
   "outputs": [],
   "source": [
    "plt.plot(num_threads, time_arr,marker='o')\n",
    "plt.xlabel('Number of Threads')\n",
    "plt.ylabel('Execution Time (seconds)')\n",
    "plt.title('Execution Time vs Number of Threads')\n",
    "\n",
    "plt.show()"
   ]
  }
 ],
 "metadata": {
  "kernelspec": {
   "display_name": "Python 3",
   "language": "python",
   "name": "python3"
  },
  "language_info": {
   "codemirror_mode": {
    "name": "ipython",
    "version": 3
   },
   "file_extension": ".py",
   "mimetype": "text/x-python",
   "name": "python",
   "nbconvert_exporter": "python",
   "pygments_lexer": "ipython3",
   "version": "3.8.5"
  }
 },
 "nbformat": 4,
 "nbformat_minor": 2
}
